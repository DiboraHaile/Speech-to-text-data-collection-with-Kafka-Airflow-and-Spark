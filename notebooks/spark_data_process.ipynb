{
 "cells": [
  {
   "cell_type": "code",
   "execution_count": null,
   "id": "01b29e3a-3119-49de-b3dc-f3cee59d0bc6",
   "metadata": {},
   "outputs": [],
   "source": [
    "import os\n",
    "import sys\n",
    "sys.path.append(os.path.abspath(os.path.join('../scripts')))\n",
    "from Wav_to_nparray import wav_to_ndarray_to_s3 as wdd"
   ]
  },
  {
   "cell_type": "code",
   "execution_count": null,
   "id": "5ce899d2-4eb1-4234-ac1b-2d271952bf85",
   "metadata": {},
   "outputs": [],
   "source": [
    "DATASET_PATH = \"/mnt/10ac-batch-4/all-data/benkart/AMHARIC/test/\""
   ]
  },
  {
   "cell_type": "code",
   "execution_count": 8,
   "id": "d2d5c484-8958-4de7-a48b-113c2546acfb",
   "metadata": {},
   "outputs": [
    {
     "name": "stdout",
     "output_type": "stream",
     "text": [
      "Loading the audio files\n"
     ]
    }
   ],
   "source": [
    "a = wdd.load_data(DATASET_PATH)"
   ]
  },
  {
   "cell_type": "code",
   "execution_count": 9,
   "id": "c72cf2ec-5638-42d0-92c9-98c28f6a5834",
   "metadata": {},
   "outputs": [
    {
     "data": {
      "text/plain": [
       "['/mnt/10ac-batch-4/all-data/benkart/AMHARIC/test/wav/01_d501021.wav',\n",
       " '/mnt/10ac-batch-4/all-data/benkart/AMHARIC/test/wav/01_d501022.wav',\n",
       " '/mnt/10ac-batch-4/all-data/benkart/AMHARIC/test/wav/01_d501023.wav',\n",
       " '/mnt/10ac-batch-4/all-data/benkart/AMHARIC/test/wav/01_d501024.wav',\n",
       " '/mnt/10ac-batch-4/all-data/benkart/AMHARIC/test/wav/01_d501025.wav',\n",
       " '/mnt/10ac-batch-4/all-data/benkart/AMHARIC/test/wav/01_d501026.wav',\n",
       " '/mnt/10ac-batch-4/all-data/benkart/AMHARIC/test/wav/01_d501027.wav',\n",
       " '/mnt/10ac-batch-4/all-data/benkart/AMHARIC/test/wav/01_d501028.wav',\n",
       " '/mnt/10ac-batch-4/all-data/benkart/AMHARIC/test/wav/01_d501029.wav',\n",
       " '/mnt/10ac-batch-4/all-data/benkart/AMHARIC/test/wav/01_d501030.wav']"
      ]
     },
     "execution_count": 9,
     "metadata": {},
     "output_type": "execute_result"
    }
   ],
   "source": [
    "a"
   ]
  },
  {
   "cell_type": "code",
   "execution_count": 10,
   "id": "4b298da2-a9e6-4a25-92ac-d6f9f1aacc57",
   "metadata": {},
   "outputs": [],
   "source": [
    "b = wdd.convert_to_ndarray(DATASET_PATH)"
   ]
  },
  {
   "cell_type": "code",
   "execution_count": 11,
   "id": "269bf8a6-7c00-43f4-a81a-26ffb8fc37bd",
   "metadata": {},
   "outputs": [
    {
     "data": {
      "text/plain": [
       "[(16000, array([-2136, -2136, -2100, ..., -2676, -2688, -2760], dtype=int16)),\n",
       " (16000, array([-3380, -3280, -3360, ..., -2900, -2880, -2920], dtype=int16)),\n",
       " (16000, array([-2160, -2124, -2124, ..., -2028, -2064, -2076], dtype=int16)),\n",
       " (16000, array([    0,     0,     0, ..., -2064, -2040, -2040], dtype=int16)),\n",
       " (16000, array([    0,     0,     0, ..., -1788, -1812, -1824], dtype=int16)),\n",
       " (16000, array([-2256, -2280, -2280, ..., -2196, -2220, -2196], dtype=int16)),\n",
       " (16000, array([-1884, -1872, -1884, ..., -1896, -1872, -1884], dtype=int16)),\n",
       " (48000, array([], dtype=int16)),\n",
       " (16000, array([-2052, -2016, -2124, ..., -1704, -1680, -1668], dtype=int16)),\n",
       " (16000, array([-1716, -1692, -1704, ..., -1812, -1800, -1872], dtype=int16))]"
      ]
     },
     "execution_count": 11,
     "metadata": {},
     "output_type": "execute_result"
    }
   ],
   "source": [
    "b"
   ]
  },
  {
   "cell_type": "code",
   "execution_count": 14,
   "id": "c7e0594d-430e-4afd-96bb-cac83acdb7ee",
   "metadata": {},
   "outputs": [],
   "source": [
    "import pandas as pd\n",
    "d = {'PATH':a,'NDARRAY':b}\n",
    "df = pd.DataFrame(d)\n",
    "df.to_csv('ndarray2.csv')"
   ]
  },
  {
   "cell_type": "code",
   "execution_count": 15,
   "id": "210f09d8-5fcc-4090-bdb1-17496c4bd140",
   "metadata": {},
   "outputs": [
    {
     "data": {
      "text/html": [
       "<div>\n",
       "<style scoped>\n",
       "    .dataframe tbody tr th:only-of-type {\n",
       "        vertical-align: middle;\n",
       "    }\n",
       "\n",
       "    .dataframe tbody tr th {\n",
       "        vertical-align: top;\n",
       "    }\n",
       "\n",
       "    .dataframe thead th {\n",
       "        text-align: right;\n",
       "    }\n",
       "</style>\n",
       "<table border=\"1\" class=\"dataframe\">\n",
       "  <thead>\n",
       "    <tr style=\"text-align: right;\">\n",
       "      <th></th>\n",
       "      <th>PATH</th>\n",
       "      <th>NDARRAY</th>\n",
       "    </tr>\n",
       "  </thead>\n",
       "  <tbody>\n",
       "    <tr>\n",
       "      <th>0</th>\n",
       "      <td>/mnt/10ac-batch-4/all-data/benkart/AMHARIC/tes...</td>\n",
       "      <td>(16000, [-2136, -2136, -2100, -2124, -2076, -2...</td>\n",
       "    </tr>\n",
       "    <tr>\n",
       "      <th>1</th>\n",
       "      <td>/mnt/10ac-batch-4/all-data/benkart/AMHARIC/tes...</td>\n",
       "      <td>(16000, [-3380, -3280, -3360, -3320, -3320, -3...</td>\n",
       "    </tr>\n",
       "    <tr>\n",
       "      <th>2</th>\n",
       "      <td>/mnt/10ac-batch-4/all-data/benkart/AMHARIC/tes...</td>\n",
       "      <td>(16000, [-2160, -2124, -2124, -2148, -2124, -2...</td>\n",
       "    </tr>\n",
       "    <tr>\n",
       "      <th>3</th>\n",
       "      <td>/mnt/10ac-batch-4/all-data/benkart/AMHARIC/tes...</td>\n",
       "      <td>(16000, [0, 0, 0, 0, 0, 0, 0, 0, 0, 0, 0, 0, 0...</td>\n",
       "    </tr>\n",
       "    <tr>\n",
       "      <th>4</th>\n",
       "      <td>/mnt/10ac-batch-4/all-data/benkart/AMHARIC/tes...</td>\n",
       "      <td>(16000, [0, 0, 0, 0, 0, 0, 0, 0, 0, 0, 0, 0, 0...</td>\n",
       "    </tr>\n",
       "    <tr>\n",
       "      <th>5</th>\n",
       "      <td>/mnt/10ac-batch-4/all-data/benkart/AMHARIC/tes...</td>\n",
       "      <td>(16000, [-2256, -2280, -2280, -2244, -2220, -2...</td>\n",
       "    </tr>\n",
       "    <tr>\n",
       "      <th>6</th>\n",
       "      <td>/mnt/10ac-batch-4/all-data/benkart/AMHARIC/tes...</td>\n",
       "      <td>(16000, [-1884, -1872, -1884, -1884, -1848, -1...</td>\n",
       "    </tr>\n",
       "    <tr>\n",
       "      <th>7</th>\n",
       "      <td>/mnt/10ac-batch-4/all-data/benkart/AMHARIC/tes...</td>\n",
       "      <td>(48000, [])</td>\n",
       "    </tr>\n",
       "    <tr>\n",
       "      <th>8</th>\n",
       "      <td>/mnt/10ac-batch-4/all-data/benkart/AMHARIC/tes...</td>\n",
       "      <td>(16000, [-2052, -2016, -2124, -2076, -2004, -2...</td>\n",
       "    </tr>\n",
       "    <tr>\n",
       "      <th>9</th>\n",
       "      <td>/mnt/10ac-batch-4/all-data/benkart/AMHARIC/tes...</td>\n",
       "      <td>(16000, [-1716, -1692, -1704, -1716, -1704, -1...</td>\n",
       "    </tr>\n",
       "  </tbody>\n",
       "</table>\n",
       "</div>"
      ],
      "text/plain": [
       "                                                PATH  \\\n",
       "0  /mnt/10ac-batch-4/all-data/benkart/AMHARIC/tes...   \n",
       "1  /mnt/10ac-batch-4/all-data/benkart/AMHARIC/tes...   \n",
       "2  /mnt/10ac-batch-4/all-data/benkart/AMHARIC/tes...   \n",
       "3  /mnt/10ac-batch-4/all-data/benkart/AMHARIC/tes...   \n",
       "4  /mnt/10ac-batch-4/all-data/benkart/AMHARIC/tes...   \n",
       "5  /mnt/10ac-batch-4/all-data/benkart/AMHARIC/tes...   \n",
       "6  /mnt/10ac-batch-4/all-data/benkart/AMHARIC/tes...   \n",
       "7  /mnt/10ac-batch-4/all-data/benkart/AMHARIC/tes...   \n",
       "8  /mnt/10ac-batch-4/all-data/benkart/AMHARIC/tes...   \n",
       "9  /mnt/10ac-batch-4/all-data/benkart/AMHARIC/tes...   \n",
       "\n",
       "                                             NDARRAY  \n",
       "0  (16000, [-2136, -2136, -2100, -2124, -2076, -2...  \n",
       "1  (16000, [-3380, -3280, -3360, -3320, -3320, -3...  \n",
       "2  (16000, [-2160, -2124, -2124, -2148, -2124, -2...  \n",
       "3  (16000, [0, 0, 0, 0, 0, 0, 0, 0, 0, 0, 0, 0, 0...  \n",
       "4  (16000, [0, 0, 0, 0, 0, 0, 0, 0, 0, 0, 0, 0, 0...  \n",
       "5  (16000, [-2256, -2280, -2280, -2244, -2220, -2...  \n",
       "6  (16000, [-1884, -1872, -1884, -1884, -1848, -1...  \n",
       "7                                        (48000, [])  \n",
       "8  (16000, [-2052, -2016, -2124, -2076, -2004, -2...  \n",
       "9  (16000, [-1716, -1692, -1704, -1716, -1704, -1...  "
      ]
     },
     "execution_count": 15,
     "metadata": {},
     "output_type": "execute_result"
    }
   ],
   "source": [
    "df"
   ]
  },
  {
   "cell_type": "code",
   "execution_count": 16,
   "id": "16c46fe3-f79b-4da3-8552-833411b2c526",
   "metadata": {},
   "outputs": [
    {
     "data": {
      "text/plain": [
       "True"
      ]
     },
     "execution_count": 16,
     "metadata": {},
     "output_type": "execute_result"
    }
   ],
   "source": [
    "wdd.upload_ndarray('ndarray2.csv', 'benkart-bucket')"
   ]
  },
  {
   "cell_type": "code",
   "execution_count": null,
   "id": "d055055e-a447-46d0-a537-4ef466150f57",
   "metadata": {},
   "outputs": [],
   "source": []
  }
 ],
 "metadata": {
  "kernelspec": {
   "display_name": "Python 3 (ipykernel)",
   "language": "python",
   "name": "python3"
  },
  "language_info": {
   "codemirror_mode": {
    "name": "ipython",
    "version": 3
   },
   "file_extension": ".py",
   "mimetype": "text/x-python",
   "name": "python",
   "nbconvert_exporter": "python",
   "pygments_lexer": "ipython3",
   "version": "3.9.5"
  }
 },
 "nbformat": 4,
 "nbformat_minor": 5
}
