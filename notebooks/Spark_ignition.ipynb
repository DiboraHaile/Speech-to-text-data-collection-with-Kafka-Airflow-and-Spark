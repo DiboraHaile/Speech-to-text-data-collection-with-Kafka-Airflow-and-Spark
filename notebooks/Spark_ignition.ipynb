{
 "cells": [
  {
   "cell_type": "code",
   "execution_count": 1,
   "id": "1e83160a-73f3-4a24-b1e7-96866f8ad085",
   "metadata": {},
   "outputs": [],
   "source": [
    "\n",
    "import boto3\n",
    "import pandas as pd\n",
    "\n",
    "\n",
    "def load_data_s3(bucket_name='10academy-group2-bucket', file_name='Clean_Amharic.txt'):\n",
    "    \"\"\" Load transcription data from s3 bucket\"\"\"\n",
    "    s3 = boto3.resource(\n",
    "        service_name='s3',\n",
    "        region_name='us-east-1'\n",
    "    )\n",
    "    # Load file directly into python\n",
    "    obj = s3.Bucket(bucket_name).Object(file_name).get()\n",
    "    df = pd.read_csv(obj['Body'])\n",
    "    return df"
   ]
  },
  {
   "cell_type": "code",
   "execution_count": 2,
   "id": "9bdff44c-5b35-4b6d-9b66-bf992677dfa3",
   "metadata": {},
   "outputs": [],
   "source": [
    "df = load_data_s3()"
   ]
  },
  {
   "cell_type": "code",
   "execution_count": 3,
   "id": "c1838d30-8229-4e64-8ebe-425949120c12",
   "metadata": {},
   "outputs": [
    {
     "name": "stderr",
     "output_type": "stream",
     "text": [
      "/tmp/ipykernel_23793/2957662750.py:1: FutureWarning: The default value of regex will change from True to False in a future version. In addition, single character regular expressions will *not* be treated as literal strings when regex=True.\n",
      "  df.columns = df.columns.str.replace(\"(\",\"\")\n"
     ]
    }
   ],
   "source": [
    "df.columns = df.columns.str.replace(\"(\",\"\")"
   ]
  },
  {
   "cell_type": "code",
   "execution_count": 4,
   "id": "1cbae50f-348f-447f-835c-8df467ff288b",
   "metadata": {},
   "outputs": [
    {
     "name": "stderr",
     "output_type": "stream",
     "text": [
      "/tmp/ipykernel_23793/3159307853.py:1: FutureWarning: The default value of regex will change from True to False in a future version. In addition, single character regular expressions will *not* be treated as literal strings when regex=True.\n",
      "  df.columns = df.columns.str.replace(\")\",\"\")\n"
     ]
    }
   ],
   "source": [
    "df.columns = df.columns.str.replace(\")\",\"\")"
   ]
  },
  {
   "cell_type": "code",
   "execution_count": 5,
   "id": "d6362c5c-284e-43d3-ada4-bc2350c7f55b",
   "metadata": {},
   "outputs": [],
   "source": [
    "df.columns = df.columns.str.replace(\"ብርሀን ፈይሳየኢትዮጵያ ቦክስ ፌዴሬሽን በየአመቱ የሚያዘጋጀው የክለቦች ቻምፒዮና በአዲስ አበባ ከተማ በመካሄድ ላይ ይገኛል sentence 1\",\"sentence\")"
   ]
  },
  {
   "cell_type": "code",
   "execution_count": 7,
   "id": "6e810806-e714-4df3-bbca-9bfacc8cef4f",
   "metadata": {},
   "outputs": [
    {
     "data": {
      "text/html": [
       "<div>\n",
       "<style scoped>\n",
       "    .dataframe tbody tr th:only-of-type {\n",
       "        vertical-align: middle;\n",
       "    }\n",
       "\n",
       "    .dataframe tbody tr th {\n",
       "        vertical-align: top;\n",
       "    }\n",
       "\n",
       "    .dataframe thead th {\n",
       "        text-align: right;\n",
       "    }\n",
       "</style>\n",
       "<table border=\"1\" class=\"dataframe\">\n",
       "  <thead>\n",
       "    <tr style=\"text-align: right;\">\n",
       "      <th></th>\n",
       "      <th>sentence</th>\n",
       "    </tr>\n",
       "  </thead>\n",
       "  <tbody>\n",
       "    <tr>\n",
       "      <th>0</th>\n",
       "      <td>የተሻለ ብቃት ያሳዩ ቦክሰኞች ለቶኪዮ ኦሊምፒክ ማጣሪያ ተሳታፊ እንደሚሆ...</td>\n",
       "    </tr>\n",
       "    <tr>\n",
       "      <th>1</th>\n",
       "      <td>በቦክስ ስፖርት ከሚካሄዱት አመታዊ ቻምፒዮናዎች መካከል አንዱ በክለቦች መ...</td>\n",
       "    </tr>\n",
       "    <tr>\n",
       "      <th>2</th>\n",
       "      <td>የኢትዮጵያ ቦክስ ፌዴሬሽን ከአዲስ አበባ ቦክስ ፌዴሬሽን ጋር በመተባበር...</td>\n",
       "    </tr>\n",
       "    <tr>\n",
       "      <th>3</th>\n",
       "      <td>በውድድሩም ላይ አምስት ክለቦች ከአዲስ አበባ ፌዴራልፖሊስ ፌዴራል ማረሚ...</td>\n",
       "    </tr>\n",
       "    <tr>\n",
       "      <th>4</th>\n",
       "      <td>በአጠቃላይ ክለቦቻቸውን ወክለውም 12 ሴትና 76 ወንድ ቦክሰኞች በጥቅሉ...</td>\n",
       "    </tr>\n",
       "    <tr>\n",
       "      <th>...</th>\n",
       "      <td>...</td>\n",
       "    </tr>\n",
       "    <tr>\n",
       "      <th>662353</th>\n",
       "      <td>የ2011 በጀት አመት የውጭ ዲሎማሲያዊ ተግባራት ስኬታማ እንደነበሩ ተገለ...</td>\n",
       "    </tr>\n",
       "    <tr>\n",
       "      <th>662354</th>\n",
       "      <td>አቶ አገኘሁ ተሻገር የሰላም ግንባታና የህዝብ ደህንነት ሀላፊ ሆነው ተሾሙ...</td>\n",
       "    </tr>\n",
       "    <tr>\n",
       "      <th>662355</th>\n",
       "      <td>የአማራ ክልል ምክር ቤት የ230 ዳኞችን ሹመት አፀደቀ (sentence 6...</td>\n",
       "    </tr>\n",
       "    <tr>\n",
       "      <th>662356</th>\n",
       "      <td>ሀምሌ 22 ለሚካሄደው የችግኝ ተከላ መርሀግብር 54 ሚሊየን ብር ተመድቧል...</td>\n",
       "    </tr>\n",
       "    <tr>\n",
       "      <th>662357</th>\n",
       "      <td>ለህግ የበላይነት መከበር ሁሉም በጋራ መስራት እንዳለበት ተጠቆመ (sent...</td>\n",
       "    </tr>\n",
       "  </tbody>\n",
       "</table>\n",
       "<p>662358 rows × 1 columns</p>\n",
       "</div>"
      ],
      "text/plain": [
       "                                                 sentence\n",
       "0        የተሻለ ብቃት ያሳዩ ቦክሰኞች ለቶኪዮ ኦሊምፒክ ማጣሪያ ተሳታፊ እንደሚሆ...\n",
       "1       በቦክስ ስፖርት ከሚካሄዱት አመታዊ ቻምፒዮናዎች መካከል አንዱ በክለቦች መ...\n",
       "2        የኢትዮጵያ ቦክስ ፌዴሬሽን ከአዲስ አበባ ቦክስ ፌዴሬሽን ጋር በመተባበር...\n",
       "3        በውድድሩም ላይ አምስት ክለቦች ከአዲስ አበባ ፌዴራልፖሊስ ፌዴራል ማረሚ...\n",
       "4        በአጠቃላይ ክለቦቻቸውን ወክለውም 12 ሴትና 76 ወንድ ቦክሰኞች በጥቅሉ...\n",
       "...                                                   ...\n",
       "662353  የ2011 በጀት አመት የውጭ ዲሎማሲያዊ ተግባራት ስኬታማ እንደነበሩ ተገለ...\n",
       "662354  አቶ አገኘሁ ተሻገር የሰላም ግንባታና የህዝብ ደህንነት ሀላፊ ሆነው ተሾሙ...\n",
       "662355  የአማራ ክልል ምክር ቤት የ230 ዳኞችን ሹመት አፀደቀ (sentence 6...\n",
       "662356  ሀምሌ 22 ለሚካሄደው የችግኝ ተከላ መርሀግብር 54 ሚሊየን ብር ተመድቧል...\n",
       "662357  ለህግ የበላይነት መከበር ሁሉም በጋራ መስራት እንዳለበት ተጠቆመ (sent...\n",
       "\n",
       "[662358 rows x 1 columns]"
      ]
     },
     "execution_count": 7,
     "metadata": {},
     "output_type": "execute_result"
    }
   ],
   "source": [
    "df\n"
   ]
  },
  {
   "cell_type": "code",
   "execution_count": 8,
   "id": "5da64421-c230-418d-9edf-81d9a3787b81",
   "metadata": {},
   "outputs": [
    {
     "name": "stderr",
     "output_type": "stream",
     "text": [
      "21/09/13 18:30:20 WARN NativeCodeLoader: Unable to load native-hadoop library for your platform... using builtin-java classes where applicable\n",
      "Using Spark's default log4j profile: org/apache/spark/log4j-defaults.properties\n",
      "Setting default log level to \"WARN\".\n",
      "To adjust logging level use sc.setLogLevel(newLevel). For SparkR, use setLogLevel(newLevel).\n"
     ]
    },
    {
     "name": "stdout",
     "output_type": "stream",
     "text": [
      "root\n",
      " |-- sentence: string (nullable = true)\n",
      "\n"
     ]
    },
    {
     "name": "stderr",
     "output_type": "stream",
     "text": [
      "21/09/13 18:31:11 WARN TaskSetManager: Stage 0 contains a task of very large size (184644 KiB). The maximum recommended task size is 1000 KiB.\n",
      "[Stage 0:>                                                          (0 + 1) / 1]\r"
     ]
    },
    {
     "name": "stdout",
     "output_type": "stream",
     "text": [
      "+--------------------+\n",
      "|            sentence|\n",
      "+--------------------+\n",
      "| የተሻለ ብቃት ያሳዩ ቦክሰ...|\n",
      "|በቦክስ ስፖርት ከሚካሄዱት ...|\n",
      "| የኢትዮጵያ ቦክስ ፌዴሬሽን...|\n",
      "| በውድድሩም ላይ አምስት ክ...|\n",
      "| በአጠቃላይ ክለቦቻቸውን ወ...|\n",
      "| ውድድሩ የሚካሄደው በራስ ...|\n",
      "| የቦክስ ስፖርት ከንክኪ ስ...|\n",
      "| በመሆኑም በዚህ ረገድ ውድ...|\n",
      "| ይኸውም ተወዳዳሪዎችና አሰ...|\n",
      "| ከዚህ ባሻገር ውድድር የሚ...|\n",
      "| ኮቪድ 19 አለም አቀፍ ወ...|\n",
      "| ከእነዚህ ውድድሮች መካከል...|\n",
      "| ውድድሮች ወደ እንቅስቃሴ ...|\n",
      "| ኢትዮጵያም በዚህ ቻምፒዮና...|\n",
      "| ቻምፒዮናው አራት ዙሮች ያ...|\n",
      "| ቻምፒዮናው ጥር 42013 ...|\n",
      "| የአዲስ ዘመን ጋዜጣ ቀደም...|\n",
      "|እኛም ከእነዚህ ዘገባዎች ጋ...|\n",
      "| በዛሬው የአዲስ ዘመን ዱሮ...|\n",
      "| ማገጃ ምልክት ይሰጠውማንኛ...|\n",
      "+--------------------+\n",
      "only showing top 20 rows\n",
      "\n"
     ]
    },
    {
     "name": "stderr",
     "output_type": "stream",
     "text": [
      "                                                                                \r"
     ]
    }
   ],
   "source": [
    "from pyspark.sql import SparkSession\n",
    "#Create PySpark SparkSession\n",
    "spark = SparkSession.builder \\\n",
    "    .master(\"local[1]\") \\\n",
    "    .appName(\"Spark_reading_s3\") \\\n",
    "    .getOrCreate()\n",
    "#Create PySpark DataFrame from Pandas\n",
    "sparkDF=spark.createDataFrame(df) \n",
    "sparkDF.printSchema()\n",
    "sparkDF.show()"
   ]
  },
  {
   "cell_type": "code",
   "execution_count": null,
   "id": "e72b25ab-4882-4e9c-9b3d-59d99dcb16fd",
   "metadata": {},
   "outputs": [],
   "source": []
  }
 ],
 "metadata": {
  "kernelspec": {
   "display_name": "Python 3 (ipykernel)",
   "language": "python",
   "name": "python3"
  },
  "language_info": {
   "codemirror_mode": {
    "name": "ipython",
    "version": 3
   },
   "file_extension": ".py",
   "mimetype": "text/x-python",
   "name": "python",
   "nbconvert_exporter": "python",
   "pygments_lexer": "ipython3",
   "version": "3.9.5"
  }
 },
 "nbformat": 4,
 "nbformat_minor": 5
}
