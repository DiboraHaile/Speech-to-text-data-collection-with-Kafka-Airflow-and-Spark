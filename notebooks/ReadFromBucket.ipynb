{
 "cells": [
  {
   "cell_type": "code",
   "execution_count": 3,
   "id": "a36ca027-6d81-4a08-9905-c7197ecc70d8",
   "metadata": {},
   "outputs": [],
   "source": [
    "import boto3\n",
    "from botocore.exceptions import ClientError\n",
    "s3 = boto3.client('s3')"
   ]
  },
  {
   "cell_type": "code",
   "execution_count": 4,
   "id": "1fc212dd-88fc-4b96-a748-73c8dfb7100b",
   "metadata": {},
   "outputs": [],
   "source": [
    "def download(bucket,object_name,file_name):\n",
    "    \"\"\"Download a file from an S3 bucket\n",
    "    :param file_name: Filename to save download as\n",
    "    :param bucket: Bucket download from\n",
    "    :param object_name: S3 object name.(file name in s3)\n",
    "    \"\"\"\n",
    "    try:\n",
    "        s3.download_file(bucket,object_name,file_name)\n",
    "        print(f'{file_name} download successful')\n",
    "    except ClientError as e:\n",
    "        print(e)"
   ]
  },
  {
   "cell_type": "code",
   "execution_count": 5,
   "id": "b66cabf7-b638-44e4-a482-4fcaafdf4e7c",
   "metadata": {},
   "outputs": [
    {
     "name": "stdout",
     "output_type": "stream",
     "text": [
      "downloaded.txt download successful\n"
     ]
    }
   ],
   "source": [
    "download('benkart-bucket','example.txt','downloaded.txt')"
   ]
  }
 ],
 "metadata": {
  "kernelspec": {
   "display_name": "Python 3 (ipykernel)",
   "language": "python",
   "name": "python3"
  },
  "language_info": {
   "codemirror_mode": {
    "name": "ipython",
    "version": 3
   },
   "file_extension": ".py",
   "mimetype": "text/x-python",
   "name": "python",
   "nbconvert_exporter": "python",
   "pygments_lexer": "ipython3",
   "version": "3.9.5"
  }
 },
 "nbformat": 4,
 "nbformat_minor": 5
}
