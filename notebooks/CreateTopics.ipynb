{
 "cells": [
  {
   "cell_type": "code",
   "execution_count": 1,
   "source": [
    "from kafka.admin import KafkaAdminClient, NewTopic"
   ],
   "outputs": [],
   "metadata": {}
  },
  {
   "cell_type": "code",
   "execution_count": 28,
   "source": [
    "class Topics():\n",
    "    def __init__(self, group_name:str, topics:list)->None:\n",
    "        '''Instatiate a class to create topic on aws. group_name is string, topics is a list of topics to be created'''\n",
    "        self.group_name = group_name\n",
    "        self.topics = [group_name +'_'+ topic for topic in topics]\n",
    "        \n",
    "        \n",
    "    def create_topic(self, topic_name):  # modified from code received from https://github.com/Blvisse\n",
    "        try:\n",
    "            admin_client = KafkaAdminClient(bootstrap_servers=[\"b-1.demo-cluster-1.9q7lp7.c1.kafka.eu-west-1.amazonaws.com:9092\",\"b-2.demo-cluster-1.9q7lp7.c1.kafka.eu-west-1.amazonaws.com:9092\"],\n",
    "            client_id='tests_id',)\n",
    "\n",
    "            topic_list = []\n",
    "            topic_list.append(NewTopic(name=topic_name, num_partitions=1, replication_factor=2))\n",
    "            admin_client.create_topics(new_topics=topic_list, validate_only=False)\n",
    "        \n",
    "        except:\n",
    "            pass\n",
    "\n",
    "        \n",
    "    def create_topics(self)->dict:\n",
    "        '''Iterate thorough topics to be created and create them one after the other. Then return a dictionary of created topics and all topics'''\n",
    "        for topic in self.topics:\n",
    "            self.create_topic(topic)\n",
    "            \n",
    "        admin_client = KafkaAdminClient(bootstrap_servers=[\"b-1.demo-cluster-1.9q7lp7.c1.kafka.eu-west-1.amazonaws.com:9092\",\"b-2.demo-cluster-1.9q7lp7.c1.kafka.eu-west-1.amazonaws.com:9092\"],\n",
    "        client_id='tests_id',)\n",
    "        all_topics = admin_client.list_topics()\n",
    "        all_topics.sort()\n",
    "        created_topics = self.topics\n",
    "        created_topics.sort()\n",
    "        return {'all_topics': all_topics, 'created_topics': created_topics}\n",
    "        \n",
    "    "
   ],
   "outputs": [],
   "metadata": {}
  },
  {
   "cell_type": "code",
   "execution_count": 29,
   "source": [
    "group_name = 'Benkart'\n",
    "topics = ['Text_Topic', 'Raw_Audio_Topic', 'Clean_Audio_Topic']"
   ],
   "outputs": [],
   "metadata": {}
  },
  {
   "cell_type": "code",
   "execution_count": 30,
   "source": [
    "crt = Topics(group_name=group_name, topics=topics)"
   ],
   "outputs": [],
   "metadata": {}
  },
  {
   "cell_type": "code",
   "execution_count": 31,
   "source": [
    "tops = crt.create_topics()"
   ],
   "outputs": [],
   "metadata": {}
  },
  {
   "cell_type": "code",
   "execution_count": 32,
   "source": [
    "tops"
   ],
   "outputs": [
    {
     "output_type": "execute_result",
     "data": {
      "text/plain": [
       "{'all_topics': ['Benkart_Clean_Audio_Topic',\n",
       "  'Benkart_Raw_Audio_Topic',\n",
       "  'Benkart_Text_Topic',\n",
       "  'Reiten-Text-Audio-Input',\n",
       "  'Reiten-Text-Corpus',\n",
       "  '__amazon_msk_canary',\n",
       "  '__amazon_msk_canary_state',\n",
       "  '__consumer_offsets',\n",
       "  'example_topic_group2',\n",
       "  'fu_topic',\n",
       "  'fumbani_topic',\n",
       "  'group4_test',\n",
       "  'groupHu_speech',\n",
       "  'groupHu_test',\n",
       "  'group_name_Clean_Audio_Topic',\n",
       "  'group_name_Raw_Audio_Topic',\n",
       "  'group_name_Text_Topic',\n",
       "  'jakinda_topic',\n",
       "  'new_test_topic',\n",
       "  'news_test_topic',\n",
       "  'papa_topic',\n",
       "  'pizza_topic',\n",
       "  'reiten_topic',\n",
       "  'test',\n",
       "  'test_g6_topic',\n",
       "  'tests_topics',\n",
       "  'tutorsAWSKafka'],\n",
       " 'created_topics': ['Benkart_Clean_Audio_Topic',\n",
       "  'Benkart_Raw_Audio_Topic',\n",
       "  'Benkart_Text_Topic']}"
      ]
     },
     "metadata": {},
     "execution_count": 32
    }
   ],
   "metadata": {}
  },
  {
   "cell_type": "code",
   "execution_count": null,
   "source": [],
   "outputs": [],
   "metadata": {}
  }
 ],
 "metadata": {
  "kernelspec": {
   "display_name": "Python [conda env:root] *",
   "language": "python",
   "name": "conda-root-py"
  },
  "language_info": {
   "codemirror_mode": {
    "name": "ipython",
    "version": 3
   },
   "file_extension": ".py",
   "mimetype": "text/x-python",
   "name": "python",
   "nbconvert_exporter": "python",
   "pygments_lexer": "ipython3",
   "version": "3.9.5"
  }
 },
 "nbformat": 4,
 "nbformat_minor": 5
}