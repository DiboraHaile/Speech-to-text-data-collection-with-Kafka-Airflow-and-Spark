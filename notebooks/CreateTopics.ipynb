{
 "cells": [
  {
   "cell_type": "code",
   "execution_count": 1,
   "id": "d7eefe14-71b2-41bc-a714-31fa77018a98",
   "metadata": {},
   "outputs": [],
   "source": [
    "from kafka.admin import KafkaAdminClient, NewTopic"
   ]
  },
  {
   "cell_type": "code",
   "execution_count": 28,
   "id": "ee6dae22-8836-4c81-82ff-e54fd3c446d5",
   "metadata": {},
   "outputs": [],
   "source": [
    "from kafka.admin import KafkaAdminClient, NewTopic\n",
    "class Topics():\n",
    "    def __init__(self, group_name:str, topics:list)->None:\n",
    "        '''Instatiate a class to create topic on aws. group_name is string, topics is a list of topics to be created'''\n",
    "        self.group_name = group_name\n",
    "        self.topics = [group_name +'_'+ topic for topic in topics]\n",
    "        \n",
    "        \n",
    "    def create_topic(self, topic_name):\n",
    "        try:\n",
    "            admin_client = KafkaAdminClient(bootstrap_servers=[\"b-1.demo-cluster-1.9q7lp7.c1.kafka.eu-west-1.amazonaws.com:9092\",\"b-2.demo-cluster-1.9q7lp7.c1.kafka.eu-west-1.amazonaws.com:9092\"],\n",
    "            client_id='tests_id',)\n",
    "\n",
    "            topic_list = []\n",
    "            topic_list.append(NewTopic(name=topic_name, num_partitions=1, replication_factor=2))\n",
    "            admin_client.create_topics(new_topics=topic_list, validate_only=False)\n",
    "        \n",
    "        except:\n",
    "            pass\n",
    "\n",
    "        \n",
    "    def create_topics(self)->dict:\n",
    "        '''Iterate thorough topics to be created and create them one after the other. Then return a dictionary of created topics and all topics'''\n",
    "        for topic in self.topics:\n",
    "            self.create_topic(topic)\n",
    "            \n",
    "        admin_client = KafkaAdminClient(bootstrap_servers=[\"b-1.demo-cluster-1.9q7lp7.c1.kafka.eu-west-1.amazonaws.com:9092\",\"b-2.demo-cluster-1.9q7lp7.c1.kafka.eu-west-1.amazonaws.com:9092\"],\n",
    "        client_id='tests_id',)\n",
    "        all_topics = admin_client.list_topics()\n",
    "        all_topics.sort()\n",
    "        created_topics = self.topics\n",
    "        created_topics.sort()\n",
    "        return {'all_topics': all_topics, 'created_topics': created_topics}\n",
    "        \n",
    "    "
   ]
  },
  {
   "cell_type": "code",
   "execution_count": 29,
   "id": "552d9bc7-9945-4c15-a14d-736621e103ab",
   "metadata": {},
   "outputs": [],
   "source": [
    "group_name = 'Benkart'\n",
    "topics = ['Text_Topic', 'Raw_Audio_Topic', 'Clean_Audio_Topic']"
   ]
  },
  {
   "cell_type": "code",
   "execution_count": 30,
   "id": "60071f13-9418-4280-9b7b-6100371868e7",
   "metadata": {},
   "outputs": [],
   "source": [
    "crt = Topics(group_name=group_name, topics=topics)"
   ]
  },
  {
   "cell_type": "code",
   "execution_count": 31,
   "id": "96d9909e-5beb-4889-8954-70a0cb00e119",
   "metadata": {},
   "outputs": [],
   "source": [
    "tops = crt.create_topics()"
   ]
  },
  {
   "cell_type": "code",
   "execution_count": 32,
   "id": "f3216f3b-26e1-495e-a08a-c8d2110ac032",
   "metadata": {},
   "outputs": [
    {
     "data": {
      "text/plain": [
       "{'all_topics': ['Benkart_Clean_Audio_Topic',\n",
       "  'Benkart_Raw_Audio_Topic',\n",
       "  'Benkart_Text_Topic',\n",
       "  'Reiten-Text-Audio-Input',\n",
       "  'Reiten-Text-Corpus',\n",
       "  '__amazon_msk_canary',\n",
       "  '__amazon_msk_canary_state',\n",
       "  '__consumer_offsets',\n",
       "  'example_topic_group2',\n",
       "  'fu_topic',\n",
       "  'fumbani_topic',\n",
       "  'group4_test',\n",
       "  'groupHu_speech',\n",
       "  'groupHu_test',\n",
       "  'group_name_Clean_Audio_Topic',\n",
       "  'group_name_Raw_Audio_Topic',\n",
       "  'group_name_Text_Topic',\n",
       "  'jakinda_topic',\n",
       "  'new_test_topic',\n",
       "  'news_test_topic',\n",
       "  'papa_topic',\n",
       "  'pizza_topic',\n",
       "  'reiten_topic',\n",
       "  'test',\n",
       "  'test_g6_topic',\n",
       "  'tests_topics',\n",
       "  'tutorsAWSKafka'],\n",
       " 'created_topics': ['Benkart_Clean_Audio_Topic',\n",
       "  'Benkart_Raw_Audio_Topic',\n",
       "  'Benkart_Text_Topic']}"
      ]
     },
     "execution_count": 32,
     "metadata": {},
     "output_type": "execute_result"
    }
   ],
   "source": [
    "tops"
   ]
  },
  {
   "cell_type": "code",
   "execution_count": null,
   "id": "123ec894-ad35-4125-85dd-50cecf691e74",
   "metadata": {},
   "outputs": [],
   "source": []
  }
 ],
 "metadata": {
  "kernelspec": {
   "display_name": "Python [conda env:root] *",
   "language": "python",
   "name": "conda-root-py"
  },
  "language_info": {
   "codemirror_mode": {
    "name": "ipython",
    "version": 3
   },
   "file_extension": ".py",
   "mimetype": "text/x-python",
   "name": "python",
   "nbconvert_exporter": "python",
   "pygments_lexer": "ipython3",
   "version": "3.9.5"
  }
 },
 "nbformat": 4,
 "nbformat_minor": 5
}
