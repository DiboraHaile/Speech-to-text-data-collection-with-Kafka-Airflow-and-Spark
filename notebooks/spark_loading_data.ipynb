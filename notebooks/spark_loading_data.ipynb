{
 "cells": [
  {
   "cell_type": "code",
   "execution_count": 7,
   "id": "581cab97-b0b6-4d71-8092-8e92044fdb74",
   "metadata": {},
   "outputs": [],
   "source": [
    "import boto3\n",
    "import pandas as pd\n",
    "\n",
    "\n",
    "def load_data_s3(bucket_name='10academy-group2-bucket', file_name='Clean_Amharic.txt'):\n",
    "    \"\"\" Load transcription data from s3 bucket\"\"\"\n",
    "    s3 = boto3.resource(\n",
    "        service_name='s3',\n",
    "        region_name='us-east-1'\n",
    "    )\n",
    "    # Load file directly into python\n",
    "    obj = s3.Bucket(bucket_name).Object(file_name).get()\n",
    "    df = pd.read_csv(obj['Body'])\n",
    "    return df"
   ]
  },
  {
   "cell_type": "code",
   "execution_count": 8,
   "id": "2e01a7c2-7571-43e7-9bc5-2b02e52dbbb1",
   "metadata": {},
   "outputs": [
    {
     "data": {
      "text/html": [
       "<div>\n",
       "<style scoped>\n",
       "    .dataframe tbody tr th:only-of-type {\n",
       "        vertical-align: middle;\n",
       "    }\n",
       "\n",
       "    .dataframe tbody tr th {\n",
       "        vertical-align: top;\n",
       "    }\n",
       "\n",
       "    .dataframe thead th {\n",
       "        text-align: right;\n",
       "    }\n",
       "</style>\n",
       "<table border=\"1\" class=\"dataframe\">\n",
       "  <thead>\n",
       "    <tr style=\"text-align: right;\">\n",
       "      <th></th>\n",
       "      <th>ብርሀን ፈይሳየኢትዮጵያ ቦክስ ፌዴሬሽን በየአመቱ የሚያዘጋጀው የክለቦች ቻምፒዮና በአዲስ አበባ ከተማ በመካሄድ ላይ ይገኛል (sentence 1)</th>\n",
       "    </tr>\n",
       "  </thead>\n",
       "  <tbody>\n",
       "    <tr>\n",
       "      <th>0</th>\n",
       "      <td>የተሻለ ብቃት ያሳዩ ቦክሰኞች ለቶኪዮ ኦሊምፒክ ማጣሪያ ተሳታፊ እንደሚሆ...</td>\n",
       "    </tr>\n",
       "    <tr>\n",
       "      <th>1</th>\n",
       "      <td>በቦክስ ስፖርት ከሚካሄዱት አመታዊ ቻምፒዮናዎች መካከል አንዱ በክለቦች መ...</td>\n",
       "    </tr>\n",
       "    <tr>\n",
       "      <th>2</th>\n",
       "      <td>የኢትዮጵያ ቦክስ ፌዴሬሽን ከአዲስ አበባ ቦክስ ፌዴሬሽን ጋር በመተባበር...</td>\n",
       "    </tr>\n",
       "    <tr>\n",
       "      <th>3</th>\n",
       "      <td>በውድድሩም ላይ አምስት ክለቦች ከአዲስ አበባ ፌዴራልፖሊስ ፌዴራል ማረሚ...</td>\n",
       "    </tr>\n",
       "    <tr>\n",
       "      <th>4</th>\n",
       "      <td>በአጠቃላይ ክለቦቻቸውን ወክለውም 12 ሴትና 76 ወንድ ቦክሰኞች በጥቅሉ...</td>\n",
       "    </tr>\n",
       "    <tr>\n",
       "      <th>...</th>\n",
       "      <td>...</td>\n",
       "    </tr>\n",
       "    <tr>\n",
       "      <th>662353</th>\n",
       "      <td>የ2011 በጀት አመት የውጭ ዲሎማሲያዊ ተግባራት ስኬታማ እንደነበሩ ተገለ...</td>\n",
       "    </tr>\n",
       "    <tr>\n",
       "      <th>662354</th>\n",
       "      <td>አቶ አገኘሁ ተሻገር የሰላም ግንባታና የህዝብ ደህንነት ሀላፊ ሆነው ተሾሙ...</td>\n",
       "    </tr>\n",
       "    <tr>\n",
       "      <th>662355</th>\n",
       "      <td>የአማራ ክልል ምክር ቤት የ230 ዳኞችን ሹመት አፀደቀ (sentence 6...</td>\n",
       "    </tr>\n",
       "    <tr>\n",
       "      <th>662356</th>\n",
       "      <td>ሀምሌ 22 ለሚካሄደው የችግኝ ተከላ መርሀግብር 54 ሚሊየን ብር ተመድቧል...</td>\n",
       "    </tr>\n",
       "    <tr>\n",
       "      <th>662357</th>\n",
       "      <td>ለህግ የበላይነት መከበር ሁሉም በጋራ መስራት እንዳለበት ተጠቆመ (sent...</td>\n",
       "    </tr>\n",
       "  </tbody>\n",
       "</table>\n",
       "<p>662358 rows × 1 columns</p>\n",
       "</div>"
      ],
      "text/plain": [
       "       ብርሀን ፈይሳየኢትዮጵያ ቦክስ ፌዴሬሽን በየአመቱ የሚያዘጋጀው የክለቦች ቻምፒዮና በአዲስ አበባ ከተማ በመካሄድ ላይ ይገኛል (sentence 1)\n",
       "0        የተሻለ ብቃት ያሳዩ ቦክሰኞች ለቶኪዮ ኦሊምፒክ ማጣሪያ ተሳታፊ እንደሚሆ...                                        \n",
       "1       በቦክስ ስፖርት ከሚካሄዱት አመታዊ ቻምፒዮናዎች መካከል አንዱ በክለቦች መ...                                        \n",
       "2        የኢትዮጵያ ቦክስ ፌዴሬሽን ከአዲስ አበባ ቦክስ ፌዴሬሽን ጋር በመተባበር...                                        \n",
       "3        በውድድሩም ላይ አምስት ክለቦች ከአዲስ አበባ ፌዴራልፖሊስ ፌዴራል ማረሚ...                                        \n",
       "4        በአጠቃላይ ክለቦቻቸውን ወክለውም 12 ሴትና 76 ወንድ ቦክሰኞች በጥቅሉ...                                        \n",
       "...                                                   ...                                        \n",
       "662353  የ2011 በጀት አመት የውጭ ዲሎማሲያዊ ተግባራት ስኬታማ እንደነበሩ ተገለ...                                        \n",
       "662354  አቶ አገኘሁ ተሻገር የሰላም ግንባታና የህዝብ ደህንነት ሀላፊ ሆነው ተሾሙ...                                        \n",
       "662355  የአማራ ክልል ምክር ቤት የ230 ዳኞችን ሹመት አፀደቀ (sentence 6...                                        \n",
       "662356  ሀምሌ 22 ለሚካሄደው የችግኝ ተከላ መርሀግብር 54 ሚሊየን ብር ተመድቧል...                                        \n",
       "662357  ለህግ የበላይነት መከበር ሁሉም በጋራ መስራት እንዳለበት ተጠቆመ (sent...                                        \n",
       "\n",
       "[662358 rows x 1 columns]"
      ]
     },
     "execution_count": 8,
     "metadata": {},
     "output_type": "execute_result"
    }
   ],
   "source": [
    "load_data_s3()"
   ]
  },
  {
   "cell_type": "code",
   "execution_count": 10,
   "id": "04586fe7-482a-49fc-97b5-b51e4e5f99ef",
   "metadata": {},
   "outputs": [],
   "source": [
    "df = load_data_s3()"
   ]
  },
  {
   "cell_type": "code",
   "execution_count": 12,
   "id": "d01e8a70-1542-4608-8709-701e7b9a4dea",
   "metadata": {},
   "outputs": [
    {
     "name": "stdout",
     "output_type": "stream",
     "text": [
      "root\n",
      " |-- ብርሀን ፈይሳየኢትዮጵያ ቦክስ ፌዴሬሽን በየአመቱ የሚያዘጋጀው የክለቦች ቻምፒዮና በአዲስ አበባ ከተማ በመካሄድ ላይ ይገኛል (sentence 1): string (nullable = true)\n",
      "\n"
     ]
    },
    {
     "name": "stderr",
     "output_type": "stream",
     "text": [
      "21/09/13 08:43:47 WARN TaskSetManager: Stage 0 contains a task of very large size (184644 KiB). The maximum recommended task size is 1000 KiB.\n",
      "[Stage 0:>                                                          (0 + 1) / 1]\r"
     ]
    },
    {
     "name": "stdout",
     "output_type": "stream",
     "text": [
      "+------------------------------------------------------------------------------------------+\n",
      "|ብርሀን ፈይሳየኢትዮጵያ ቦክስ ፌዴሬሽን በየአመቱ የሚያዘጋጀው የክለቦች ቻምፒዮና በአዲስ አበባ ከተማ በመካሄድ ላይ ይገኛል (sentence 1)|\n",
      "+------------------------------------------------------------------------------------------+\n",
      "|                                                                       የተሻለ ብቃት ያሳዩ ቦክሰ...|\n",
      "|                                                                      በቦክስ ስፖርት ከሚካሄዱት ...|\n",
      "|                                                                       የኢትዮጵያ ቦክስ ፌዴሬሽን...|\n",
      "|                                                                       በውድድሩም ላይ አምስት ክ...|\n",
      "|                                                                       በአጠቃላይ ክለቦቻቸውን ወ...|\n",
      "|                                                                       ውድድሩ የሚካሄደው በራስ ...|\n",
      "|                                                                       የቦክስ ስፖርት ከንክኪ ስ...|\n",
      "|                                                                       በመሆኑም በዚህ ረገድ ውድ...|\n",
      "|                                                                       ይኸውም ተወዳዳሪዎችና አሰ...|\n",
      "|                                                                       ከዚህ ባሻገር ውድድር የሚ...|\n",
      "|                                                                       ኮቪድ 19 አለም አቀፍ ወ...|\n",
      "|                                                                       ከእነዚህ ውድድሮች መካከል...|\n",
      "|                                                                       ውድድሮች ወደ እንቅስቃሴ ...|\n",
      "|                                                                       ኢትዮጵያም በዚህ ቻምፒዮና...|\n",
      "|                                                                       ቻምፒዮናው አራት ዙሮች ያ...|\n",
      "|                                                                       ቻምፒዮናው ጥር 42013 ...|\n",
      "|                                                                       የአዲስ ዘመን ጋዜጣ ቀደም...|\n",
      "|                                                                      እኛም ከእነዚህ ዘገባዎች ጋ...|\n",
      "|                                                                       በዛሬው የአዲስ ዘመን ዱሮ...|\n",
      "|                                                                       ማገጃ ምልክት ይሰጠውማንኛ...|\n",
      "+------------------------------------------------------------------------------------------+\n",
      "only showing top 20 rows\n",
      "\n"
     ]
    },
    {
     "name": "stderr",
     "output_type": "stream",
     "text": [
      "                                                                                \r"
     ]
    }
   ],
   "source": [
    "from pyspark.sql import SparkSession\n",
    "#Create PySpark SparkSession\n",
    "spark = SparkSession.builder \\\n",
    "    .master(\"local[1]\") \\\n",
    "    .appName(\"Spark_reading_s3\") \\\n",
    "    .getOrCreate()\n",
    "#Create PySpark DataFrame from Pandas\n",
    "sparkDF=spark.createDataFrame(df) \n",
    "sparkDF.printSchema()\n",
    "sparkDF.show()"
   ]
  },
  {
   "cell_type": "code",
   "execution_count": null,
   "id": "44391f7c-91c9-4db6-9887-2e8d14d60a9f",
   "metadata": {},
   "outputs": [],
   "source": []
  }
 ],
 "metadata": {
  "kernelspec": {
   "display_name": "Python [conda env:root] *",
   "language": "python",
   "name": "conda-root-py"
  },
  "language_info": {
   "codemirror_mode": {
    "name": "ipython",
    "version": 3
   },
   "file_extension": ".py",
   "mimetype": "text/x-python",
   "name": "python",
   "nbconvert_exporter": "python",
   "pygments_lexer": "ipython3",
   "version": "3.9.5"
  }
 },
 "nbformat": 4,
 "nbformat_minor": 5
}
